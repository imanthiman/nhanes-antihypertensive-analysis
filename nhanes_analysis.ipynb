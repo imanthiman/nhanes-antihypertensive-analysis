{
 "cells": [
  {
   "cell_type": "markdown",
   "id": "973c9f29",
   "metadata": {},
   "source": [
    "# Antihypertensive Drug Efficacy Analysis (NHANES 2017–2018)\n",
    "\n",
    "## Objective\n",
    "\n",
    "To evaluate and compare the real-world effectiveness of selected antihypertensive medications across major therapeutic classes, using national health survey data from the U.S. NHANES 2017–2018 dataset.\n",
    "\n",
    "## Background\n",
    "\n",
    "Hypertension remains a leading modifiable risk factor for cardiovascular disease. Despite widespread pharmacologic options, real-world treatment outcomes vary based on drug class, patient factors, and clinical context. This analysis investigates how effective specific high-potency antihypertensive agents are in achieving blood pressure control in the U.S. population.\n",
    "\n",
    "## Data Sources\n",
    "\n",
    "All data were sourced from the publicly available NHANES 2017–2018 cycle:\n",
    "\n",
    "- `DEMO_J.XPT` — Demographic data  \n",
    "- `BPX_J.XPT` — Blood pressure measurements  \n",
    "- `RXQ_RX_J.XPT` — Prescription medications reported within the past 30 days\n",
    "\n",
    "## Tools Used\n",
    "\n",
    "- Python 3.11  \n",
    "- Jupyter Notebook  \n",
    "- pandas, seaborn, matplotlib  \n",
    "\n",
    "## Drugs Compared\n",
    "\n",
    "One widely accepted, guideline-supported agent was selected from each major antihypertensive drug class:\n",
    "\n",
    "**Ramipril**    | ACE Inhibitor\n",
    "**Telmisartan** | Angiotensin II Receptor Blocker (ARB)  \n",
    "**Bisoprolol**  | Beta-blocker\n",
    "**Amlodipine**  | Calcium Channel Blocker **Chlorthalidone** | Thiazide-like Diuretic\n",
    "\n",
    "These agents were chosen based on clinical potency, guideline recommendations, and real-world prescribing patterns.\n",
    "\n",
    "## Outcome Definition\n",
    "\n",
    "A participant was classified as having **controlled blood pressure** if:\n",
    "- **Systolic BP < 140 mmHg** and  \n",
    "- **Diastolic BP < 90 mmHg**\n",
    "\n",
    "This definition follows contemporary hypertension treatment thresholds from JNC 8 and ACC/AHA guidelines.\n",
    "\n",
    "## Method Summary\n",
    "\n",
    "- Merged demographic, blood pressure, and prescription data using `SEQN`\n",
    "- Filtered the dataset to identify individuals taking each of the five target drugs\n",
    "- Calculated and visualized the proportion of patients with controlled BP by drug\n",
    "- Compared treatment effectiveness across classes based on control rates\n",
    "\n",
    "## Limitations\n",
    "\n",
    "- **Cross-sectional data only**: NHANES is not longitudinal, so we cannot evaluate before-and-after treatment effects  \n",
    "- **No dosage or duration data**: We only know whether a drug was reported in the past 30\n",
    "\n",
    "## Visual Summary\n",
    "\n",
    "![BP Control by Drug](bp_control_by_drug.png)"
   ]
  },
  {
   "cell_type": "code",
   "execution_count": 12,
   "id": "684f4827-284a-4005-ac6a-fb3f49713daf",
   "metadata": {},
   "outputs": [
    {
     "name": "stdout",
     "output_type": "stream",
     "text": [
      "Demographics: (15560, 29)\n",
      "Blood Pressure: (11656, 12)\n",
      "Medications: (32962, 13)\n"
     ]
    }
   ],
   "source": [
    "import pandas as pd\n",
    "import pyreadstat\n",
    "\n",
    "demographics, _ = pyreadstat.read_xport(\"data/P_DEMO.xpt\", encoding='latin1')\n",
    "bp, _ = pyreadstat.read_xport(\"data/P_BPXO.xpt\", encoding='latin1')\n",
    "meds, _ = pyreadstat.read_xport(\"data/P_RXQ_RX.xpt\", encoding='latin1')\n",
    "\n",
    "print(f\"Demographics: {demographics.shape}\")\n",
    "print(f\"Blood Pressure: {bp.shape}\")\n",
    "print(f\"Medications: {meds.shape}\")"
   ]
  },
  {
   "cell_type": "code",
   "execution_count": 13,
   "id": "1cccce59",
   "metadata": {},
   "outputs": [
    {
     "name": "stdout",
     "output_type": "stream",
     "text": [
      "Final merged shape: (27550, 41)\n",
      "Records with drug data: 27550\n"
     ]
    },
    {
     "data": {
      "text/html": [
       "<div>\n",
       "<style scoped>\n",
       "    .dataframe tbody tr th:only-of-type {\n",
       "        vertical-align: middle;\n",
       "    }\n",
       "\n",
       "    .dataframe tbody tr th {\n",
       "        vertical-align: top;\n",
       "    }\n",
       "\n",
       "    .dataframe thead th {\n",
       "        text-align: right;\n",
       "    }\n",
       "</style>\n",
       "<table border=\"1\" class=\"dataframe\">\n",
       "  <thead>\n",
       "    <tr style=\"text-align: right;\">\n",
       "      <th></th>\n",
       "      <th>SEQN</th>\n",
       "      <th>RXDDRUG</th>\n",
       "    </tr>\n",
       "  </thead>\n",
       "  <tbody>\n",
       "    <tr>\n",
       "      <th>11002</th>\n",
       "      <td>115547.0</td>\n",
       "      <td>FAMOTIDINE</td>\n",
       "    </tr>\n",
       "    <tr>\n",
       "      <th>5488</th>\n",
       "      <td>112384.0</td>\n",
       "      <td></td>\n",
       "    </tr>\n",
       "    <tr>\n",
       "      <th>6572</th>\n",
       "      <td>112993.0</td>\n",
       "      <td></td>\n",
       "    </tr>\n",
       "    <tr>\n",
       "      <th>6274</th>\n",
       "      <td>112826.0</td>\n",
       "      <td>LEVETIRACETAM</td>\n",
       "    </tr>\n",
       "    <tr>\n",
       "      <th>19224</th>\n",
       "      <td>120149.0</td>\n",
       "      <td>ESTRADIOL</td>\n",
       "    </tr>\n",
       "  </tbody>\n",
       "</table>\n",
       "</div>"
      ],
      "text/plain": [
       "           SEQN        RXDDRUG\n",
       "11002  115547.0     FAMOTIDINE\n",
       "5488   112384.0               \n",
       "6572   112993.0               \n",
       "6274   112826.0  LEVETIRACETAM\n",
       "19224  120149.0      ESTRADIOL"
      ]
     },
     "metadata": {},
     "output_type": "display_data"
    }
   ],
   "source": [
    "df = pd.merge(demographics, bp, on='SEQN')\n",
    "df = df.merge(meds[['SEQN', 'RXDDRUG']], on='SEQN', how='left')\n",
    "\n",
    "print(f\"Final merged shape: {df.shape}\")\n",
    "non_null_meds = df[['SEQN', 'RXDDRUG']].dropna()\n",
    "print(f\"Records with drug data: {len(non_null_meds)}\")\n",
    "\n",
    "if len(non_null_meds) > 0:\n",
    "    display(non_null_meds.sample(min(5, len(non_null_meds))))\n",
    "else:\n",
    "    print(\"No patients with recorded drugs found after merge.\")"
   ]
  },
  {
   "cell_type": "code",
   "execution_count": 14,
   "id": "457bdf40",
   "metadata": {},
   "outputs": [
    {
     "name": "stdout",
     "output_type": "stream",
     "text": [
      "False    21144\n",
      "True      6406\n",
      "Name: hypertensive, dtype: int64\n"
     ]
    }
   ],
   "source": [
    "df['hypertensive'] = ((df['BPXOSY1'] >= 140) | (df['BPXODI1'] >= 90))\n",
    "print(df['hypertensive'].value_counts())"
   ]
  },
  {
   "cell_type": "code",
   "execution_count": 15,
   "id": "211841b0",
   "metadata": {},
   "outputs": [
    {
     "name": "stdout",
     "output_type": "stream",
     "text": [
      "False    26624\n",
      "True       926\n",
      "Name: on_antihypertensive, dtype: int64\n"
     ]
    }
   ],
   "source": [
    "antihypertensives = ['ramipril', 'telmisartan', 'bisoprolol', 'amlodipine', 'chlorthalidone']\n",
    "\n",
    "df['on_antihypertensive'] = df['RXDDRUG'].str.lower().apply(lambda x: any(drug in x for drug in antihypertensives) if isinstance(x, str) else False)\n",
    "print(df['on_antihypertensive'].value_counts())"
   ]
  },
  {
   "cell_type": "code",
   "execution_count": 16,
   "id": "9d670886",
   "metadata": {},
   "outputs": [
    {
     "name": "stdout",
     "output_type": "stream",
     "text": [
      "True     472\n",
      "False    454\n",
      "Name: bp_controlled, dtype: int64\n"
     ]
    },
    {
     "name": "stderr",
     "output_type": "stream",
     "text": [
      "/opt/anaconda3/envs/nhanes_xpt/lib/python3.9/site-packages/pandas/core/indexing.py:1667: SettingWithCopyWarning: \n",
      "A value is trying to be set on a copy of a slice from a DataFrame.\n",
      "Try using .loc[row_indexer,col_indexer] = value instead\n",
      "\n",
      "See the caveats in the documentation: https://pandas.pydata.org/pandas-docs/stable/user_guide/indexing.html#returning-a-view-versus-a-copy\n",
      "  self.obj[key] = value\n"
     ]
    }
   ],
   "source": [
    "treated = df[df['on_antihypertensive']]\n",
    "treated.loc[:, 'bp_controlled'] = (treated['BPXOSY1'] < 140) & (treated['BPXODI1'] < 90)\n",
    "print(treated['bp_controlled'].value_counts())"
   ]
  },
  {
   "cell_type": "code",
   "execution_count": 17,
   "id": "a0e8e2cb",
   "metadata": {},
   "outputs": [
    {
     "data": {
      "image/png": "[encoded data removed]",
      "text/plain": [
       "<Figure size 640x480 with 1 Axes>"
      ]
     },
     "metadata": {},
     "output_type": "display_data"
    }
   ],
   "source": [
    "import seaborn as sns\n",
    "import matplotlib.pyplot as plt\n",
    "\n",
    "sns.countplot(data=treated, x='bp_controlled')\n",
    "plt.title(\"BP Control Among Treated Patients\")\n",
    "plt.show()"
   ]
  },
  {
   "cell_type": "code",
   "execution_count": 18,
   "id": "ba842027",
   "metadata": {},
   "outputs": [],
   "source": [
    "df['drug_clean'] = df['RXDDRUG'].str.lower().str.strip()"
   ]
  },
  {
   "cell_type": "code",
   "execution_count": 19,
   "id": "ee207aa4",
   "metadata": {},
   "outputs": [],
   "source": [
    "antihypertensives = ['ramipril', 'telmisartan', 'bisoprolol', 'amlodipine', 'chlorthalidone']\n",
    "\n",
    "treated = df[df['drug_clean'].isin(antihypertensives)].copy()\n",
    "treated['bp_controlled'] = (treated['BPXOSY1'] < 140) & (treated['BPXODI1'] < 90)"
   ]
  },
  {
   "cell_type": "code",
   "execution_count": 20,
   "id": "0a61d048",
   "metadata": {},
   "outputs": [
    {
     "name": "stdout",
     "output_type": "stream",
     "text": [
      "                patients  controlled  control_rate\n",
      "drug_clean                                        \n",
      "bisoprolol             9           7      0.777778\n",
      "ramipril              48          32      0.666667\n",
      "chlorthalidone        46          23      0.500000\n",
      "amlodipine           728         357      0.490385\n",
      "telmisartan           21          10      0.476190\n"
     ]
    }
   ],
   "source": [
    "drug_summary = (\n",
    "    treated.groupby('drug_clean')['bp_controlled']\n",
    "    .agg(['count', 'sum', 'mean'])\n",
    "    .rename(columns={'count': 'patients', 'sum': 'controlled', 'mean': 'control_rate'})\n",
    "    .sort_values('control_rate', ascending=False)\n",
    ")\n",
    "\n",
    "print(drug_summary)"
   ]
  },
  {
   "cell_type": "code",
   "execution_count": 21,
   "id": "d97ec931",
   "metadata": {},
   "outputs": [
    {
     "name": "stderr",
     "output_type": "stream",
     "text": [
      "/var/folders/bg/4ythw_qj51q7y1b44njv2wx40000gp/T/ipykernel_67902/890215384.py:5: FutureWarning: \n",
      "\n",
      "Passing `palette` without assigning `hue` is deprecated and will be removed in v0.14.0. Assign the `y` variable to `hue` and set `legend=False` for the same effect.\n",
      "\n",
      "  sns.barplot(\n"
     ]
    },
    {
     "data": {
      "image/png": "[encoded data removed]",
      "text/plain": [
       "<Figure size 1000x600 with 1 Axes>"
      ]
     },
     "metadata": {},
     "output_type": "display_data"
    }
   ],
   "source": [
    "import seaborn as sns\n",
    "import matplotlib.pyplot as plt\n",
    "\n",
    "plt.figure(figsize=(10, 6))\n",
    "sns.barplot(\n",
    "    data=drug_summary.reset_index(),\n",
    "    x='control_rate', y='drug_clean',\n",
    "    palette='viridis'\n",
    ")\n",
    "plt.title(\"Antihypertensive Drug Efficacy (BP Control Rate)\")\n",
    "plt.xlabel(\"Proportion of Controlled Patients\")\n",
    "plt.ylabel(\"Drug Name\")\n",
    "plt.xlim(0, 1)\n",
    "plt.show()"
   ]
  },
  {
   "cell_type": "code",
   "execution_count": 23,
   "id": "3a46f022",
   "metadata": {},
   "outputs": [
    {
     "data": {
      "text/plain": [
       "<Figure size 640x480 with 0 Axes>"
      ]
     },
     "metadata": {},
     "output_type": "display_data"
    }
   ],
   "source": [
    "plt.savefig(\"bp_control_by_drug.png\", dpi=300, bbox_inches=\"tight\")"
   ]
  }
 ],
 "metadata": {
  "kernelspec": {
   "display_name": "nhanes_xpt",
   "language": "python",
   "name": "python3"
  },
  "language_info": {
   "codemirror_mode": {
    "name": "ipython",
    "version": 3
   },
   "file_extension": ".py",
   "mimetype": "text/x-python",
   "name": "python",
   "nbconvert_exporter": "python",
   "pygments_lexer": "ipython3",
   "version": "3.9.21"
  }
 },
 "nbformat": 4,
 "nbformat_minor": 5
}
